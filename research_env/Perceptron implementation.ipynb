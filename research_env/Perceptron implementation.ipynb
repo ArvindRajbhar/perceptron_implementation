{
 "cells": [
  {
   "cell_type": "code",
   "execution_count": 55,
   "id": "5d46cef6",
   "metadata": {},
   "outputs": [],
   "source": [
    "import os\n",
    "import matplotlib.pyplot as plt\n",
    "import pandas as pd\n",
    "import joblib # to save the model\n",
    "import numpy as np\n",
    "\n",
    "plt.style.use(\"fivethirtyeight\")"
   ]
  },
  {
   "cell_type": "code",
   "execution_count": 56,
   "id": "e6dfd857",
   "metadata": {},
   "outputs": [],
   "source": [
    "class perceptron:\n",
    "    def __init__(self, eta: float=None, epochs: int=None):# default datatype is float and int and default value is None\n",
    "        self.weights=np.random.randn(3) * 1e-4 # to keep the weight value very small so the conversion/calculation become faster 1e-4 is 10**-4\n",
    "        self.eta = eta # Learning rate\n",
    "        self.epochs = epochs # iterations\n",
    "        \n",
    "    def _z_outcome(self,inputs,weights):\n",
    "        return np.dot(inputs,weights)\n",
    "    \n",
    "    def activation_function(self,z):\n",
    "        return np.where(z > 0, 1, 0)\n",
    "        \n",
    "    def fit(self,X,y):\n",
    "        self.X = X\n",
    "        self.y = y\n",
    "        \n",
    "        X_with_bias = np.c_[self.X, -np.ones((len(self.X), 1))] # cconcatination with bias\n",
    "        print(f\"X with bias: \\n {X_with_bias}\")\n",
    "        \n",
    "        for epoch in range(self.epochs):\n",
    "            print(\"--\"*10)\n",
    "            print(f\"for epoch>> {epoch +1}\")\n",
    "            print(\"--\"*10)\n",
    "            z= self._z_outcome(X_with_bias,self.weights)\n",
    "            y_hat = self.activation_function(z)\n",
    "            \n",
    "            print(f\"predicted value after forward pass: \\n {y_hat}\")\n",
    "            \n",
    "            self.error =self.y - y_hat\n",
    "            print(f\"error: \\n {self.error}\")\n",
    "                  \n",
    "                  \n",
    "            self.weights = self.weights + self.eta * np.dot(X_with_bias.T, self.error)\n",
    "            print(f\"updated weights after epoch: {epoch+1}/{self.epochs}: \\n{self.weights}\")\n",
    "            print(f\"##\"*10)\n",
    "            \n",
    "    def predict(self, X):\n",
    "        X_with_bias = np.c_[X, -np.ones((len(X), 1))]\n",
    "        z = self._z_outcome(X_with_bias, self.weights)\n",
    "        return self.activation_function(z)"
   ]
  },
  {
   "cell_type": "code",
   "execution_count": 57,
   "id": "eb9ca041",
   "metadata": {},
   "outputs": [
    {
     "data": {
      "text/html": [
       "<div>\n",
       "<style scoped>\n",
       "    .dataframe tbody tr th:only-of-type {\n",
       "        vertical-align: middle;\n",
       "    }\n",
       "\n",
       "    .dataframe tbody tr th {\n",
       "        vertical-align: top;\n",
       "    }\n",
       "\n",
       "    .dataframe thead th {\n",
       "        text-align: right;\n",
       "    }\n",
       "</style>\n",
       "<table border=\"1\" class=\"dataframe\">\n",
       "  <thead>\n",
       "    <tr style=\"text-align: right;\">\n",
       "      <th></th>\n",
       "      <th>x1</th>\n",
       "      <th>x2</th>\n",
       "      <th>y</th>\n",
       "    </tr>\n",
       "  </thead>\n",
       "  <tbody>\n",
       "    <tr>\n",
       "      <th>0</th>\n",
       "      <td>0</td>\n",
       "      <td>0</td>\n",
       "      <td>0</td>\n",
       "    </tr>\n",
       "    <tr>\n",
       "      <th>1</th>\n",
       "      <td>0</td>\n",
       "      <td>1</td>\n",
       "      <td>1</td>\n",
       "    </tr>\n",
       "    <tr>\n",
       "      <th>2</th>\n",
       "      <td>1</td>\n",
       "      <td>0</td>\n",
       "      <td>1</td>\n",
       "    </tr>\n",
       "    <tr>\n",
       "      <th>3</th>\n",
       "      <td>1</td>\n",
       "      <td>1</td>\n",
       "      <td>1</td>\n",
       "    </tr>\n",
       "  </tbody>\n",
       "</table>\n",
       "</div>"
      ],
      "text/plain": [
       "   x1  x2  y\n",
       "0   0   0  0\n",
       "1   0   1  1\n",
       "2   1   0  1\n",
       "3   1   1  1"
      ]
     },
     "execution_count": 57,
     "metadata": {},
     "output_type": "execute_result"
    }
   ],
   "source": [
    "OR = {\n",
    "    \"x1\" : [0,0,1,1],\n",
    "    \"x2\" : [0,1,0,1],\n",
    "    \"y\" : [0,1,1,1]\n",
    "}\n",
    "\n",
    "df_OR =pd.DataFrame(OR)\n",
    "\n",
    "df_OR"
   ]
  },
  {
   "cell_type": "code",
   "execution_count": 58,
   "id": "a4848eea",
   "metadata": {},
   "outputs": [],
   "source": [
    "def prepare_data(df, target_col=\"y\"):\n",
    "    X = df.drop(target_col, axis=1)\n",
    "    y = df[target_col]\n",
    "    \n",
    "    return X,y"
   ]
  },
  {
   "cell_type": "code",
   "execution_count": 59,
   "id": "0e497b7c",
   "metadata": {},
   "outputs": [
    {
     "name": "stdout",
     "output_type": "stream",
     "text": [
      "X with bias: \n",
      " [[ 0.  0. -1.]\n",
      " [ 0.  1. -1.]\n",
      " [ 1.  0. -1.]\n",
      " [ 1.  1. -1.]]\n",
      "--------------------\n",
      "for epoch>> 1\n",
      "--------------------\n",
      "predicted value after forward pass: \n",
      " [0 0 1 0]\n",
      "error: \n",
      " 0    0\n",
      "1    1\n",
      "2    0\n",
      "3    1\n",
      "Name: y, dtype: int64\n",
      "updated weights after epoch: 1/10: \n",
      "[ 0.10009656  0.19988707 -0.19991011]\n",
      "####################\n",
      "--------------------\n",
      "for epoch>> 2\n",
      "--------------------\n",
      "predicted value after forward pass: \n",
      " [1 1 1 1]\n",
      "error: \n",
      " 0   -1\n",
      "1    0\n",
      "2    0\n",
      "3    0\n",
      "Name: y, dtype: int64\n",
      "updated weights after epoch: 2/10: \n",
      "[ 0.10009656  0.19988707 -0.09991011]\n",
      "####################\n",
      "--------------------\n",
      "for epoch>> 3\n",
      "--------------------\n",
      "predicted value after forward pass: \n",
      " [1 1 1 1]\n",
      "error: \n",
      " 0   -1\n",
      "1    0\n",
      "2    0\n",
      "3    0\n",
      "Name: y, dtype: int64\n",
      "updated weights after epoch: 3/10: \n",
      "[1.00096560e-01 1.99887067e-01 8.98943548e-05]\n",
      "####################\n",
      "--------------------\n",
      "for epoch>> 4\n",
      "--------------------\n",
      "predicted value after forward pass: \n",
      " [0 1 1 1]\n",
      "error: \n",
      " 0    0\n",
      "1    0\n",
      "2    0\n",
      "3    0\n",
      "Name: y, dtype: int64\n",
      "updated weights after epoch: 4/10: \n",
      "[1.00096560e-01 1.99887067e-01 8.98943548e-05]\n",
      "####################\n",
      "--------------------\n",
      "for epoch>> 5\n",
      "--------------------\n",
      "predicted value after forward pass: \n",
      " [0 1 1 1]\n",
      "error: \n",
      " 0    0\n",
      "1    0\n",
      "2    0\n",
      "3    0\n",
      "Name: y, dtype: int64\n",
      "updated weights after epoch: 5/10: \n",
      "[1.00096560e-01 1.99887067e-01 8.98943548e-05]\n",
      "####################\n",
      "--------------------\n",
      "for epoch>> 6\n",
      "--------------------\n",
      "predicted value after forward pass: \n",
      " [0 1 1 1]\n",
      "error: \n",
      " 0    0\n",
      "1    0\n",
      "2    0\n",
      "3    0\n",
      "Name: y, dtype: int64\n",
      "updated weights after epoch: 6/10: \n",
      "[1.00096560e-01 1.99887067e-01 8.98943548e-05]\n",
      "####################\n",
      "--------------------\n",
      "for epoch>> 7\n",
      "--------------------\n",
      "predicted value after forward pass: \n",
      " [0 1 1 1]\n",
      "error: \n",
      " 0    0\n",
      "1    0\n",
      "2    0\n",
      "3    0\n",
      "Name: y, dtype: int64\n",
      "updated weights after epoch: 7/10: \n",
      "[1.00096560e-01 1.99887067e-01 8.98943548e-05]\n",
      "####################\n",
      "--------------------\n",
      "for epoch>> 8\n",
      "--------------------\n",
      "predicted value after forward pass: \n",
      " [0 1 1 1]\n",
      "error: \n",
      " 0    0\n",
      "1    0\n",
      "2    0\n",
      "3    0\n",
      "Name: y, dtype: int64\n",
      "updated weights after epoch: 8/10: \n",
      "[1.00096560e-01 1.99887067e-01 8.98943548e-05]\n",
      "####################\n",
      "--------------------\n",
      "for epoch>> 9\n",
      "--------------------\n",
      "predicted value after forward pass: \n",
      " [0 1 1 1]\n",
      "error: \n",
      " 0    0\n",
      "1    0\n",
      "2    0\n",
      "3    0\n",
      "Name: y, dtype: int64\n",
      "updated weights after epoch: 9/10: \n",
      "[1.00096560e-01 1.99887067e-01 8.98943548e-05]\n",
      "####################\n",
      "--------------------\n",
      "for epoch>> 10\n",
      "--------------------\n",
      "predicted value after forward pass: \n",
      " [0 1 1 1]\n",
      "error: \n",
      " 0    0\n",
      "1    0\n",
      "2    0\n",
      "3    0\n",
      "Name: y, dtype: int64\n",
      "updated weights after epoch: 10/10: \n",
      "[1.00096560e-01 1.99887067e-01 8.98943548e-05]\n",
      "####################\n"
     ]
    }
   ],
   "source": [
    "X,y = prepare_data(df_OR)\n",
    "ETA = 0.1\n",
    "EPOCHS = 10\n",
    "model_or = perceptron(eta=ETA, epochs=EPOCHS)\n",
    "\n",
    "model_or.fit(X,y)"
   ]
  },
  {
   "cell_type": "code",
   "execution_count": 63,
   "id": "84fa5db1",
   "metadata": {},
   "outputs": [
    {
     "data": {
      "text/plain": [
       "array([0, 1, 1, 1])"
      ]
     },
     "execution_count": 63,
     "metadata": {},
     "output_type": "execute_result"
    }
   ],
   "source": [
    "model_or.predict(X)"
   ]
  },
  {
   "cell_type": "code",
   "execution_count": 65,
   "id": "437d9692",
   "metadata": {},
   "outputs": [
    {
     "data": {
      "text/plain": [
       "array([0])"
      ]
     },
     "execution_count": 65,
     "metadata": {},
     "output_type": "execute_result"
    }
   ],
   "source": [
    "model_or.predict(X=[[0,0]])"
   ]
  },
  {
   "cell_type": "markdown",
   "id": "3564d9fc",
   "metadata": {},
   "source": [
    "# AND"
   ]
  },
  {
   "cell_type": "code",
   "execution_count": 51,
   "id": "2385b947",
   "metadata": {},
   "outputs": [
    {
     "data": {
      "text/html": [
       "<div>\n",
       "<style scoped>\n",
       "    .dataframe tbody tr th:only-of-type {\n",
       "        vertical-align: middle;\n",
       "    }\n",
       "\n",
       "    .dataframe tbody tr th {\n",
       "        vertical-align: top;\n",
       "    }\n",
       "\n",
       "    .dataframe thead th {\n",
       "        text-align: right;\n",
       "    }\n",
       "</style>\n",
       "<table border=\"1\" class=\"dataframe\">\n",
       "  <thead>\n",
       "    <tr style=\"text-align: right;\">\n",
       "      <th></th>\n",
       "      <th>x1</th>\n",
       "      <th>x2</th>\n",
       "      <th>y</th>\n",
       "    </tr>\n",
       "  </thead>\n",
       "  <tbody>\n",
       "    <tr>\n",
       "      <th>0</th>\n",
       "      <td>0</td>\n",
       "      <td>0</td>\n",
       "      <td>0</td>\n",
       "    </tr>\n",
       "    <tr>\n",
       "      <th>1</th>\n",
       "      <td>0</td>\n",
       "      <td>1</td>\n",
       "      <td>0</td>\n",
       "    </tr>\n",
       "    <tr>\n",
       "      <th>2</th>\n",
       "      <td>1</td>\n",
       "      <td>0</td>\n",
       "      <td>0</td>\n",
       "    </tr>\n",
       "    <tr>\n",
       "      <th>3</th>\n",
       "      <td>1</td>\n",
       "      <td>1</td>\n",
       "      <td>1</td>\n",
       "    </tr>\n",
       "  </tbody>\n",
       "</table>\n",
       "</div>"
      ],
      "text/plain": [
       "   x1  x2  y\n",
       "0   0   0  0\n",
       "1   0   1  0\n",
       "2   1   0  0\n",
       "3   1   1  1"
      ]
     },
     "execution_count": 51,
     "metadata": {},
     "output_type": "execute_result"
    }
   ],
   "source": [
    "AND = {\n",
    "    \"x1\" : [0,0,1,1],\n",
    "    \"x2\" : [0,1,0,1],\n",
    "    \"y\" : [0,0,0,1]\n",
    "}\n",
    "\n",
    "df_AND =pd.DataFrame(AND)\n",
    "\n",
    "df_AND"
   ]
  },
  {
   "cell_type": "code",
   "execution_count": 52,
   "id": "b96478c5",
   "metadata": {},
   "outputs": [],
   "source": [
    "def prepare_data_and(df, target_col=\"y\"):\n",
    "    X = df.drop(target_col, axis=1)\n",
    "    y = df[target_col]\n",
    "    \n",
    "    return X,y"
   ]
  },
  {
   "cell_type": "code",
   "execution_count": null,
   "id": "96b910e4",
   "metadata": {},
   "outputs": [],
   "source": [
    "X,y = prepare_data_and(df_AND)\n",
    "ETA = 0.1\n",
    "EPOCHS = 10\n",
    "model_and = perceptron(eta=ETA, epochs=EPOCHS)\n",
    "\n",
    "model_and.fit(X,y)"
   ]
  },
  {
   "cell_type": "code",
   "execution_count": null,
   "id": "04822147",
   "metadata": {},
   "outputs": [],
   "source": [
    "model_and.pr"
   ]
  },
  {
   "cell_type": "markdown",
   "id": "c2d8d019",
   "metadata": {},
   "source": [
    "# XOR"
   ]
  },
  {
   "cell_type": "code",
   "execution_count": null,
   "id": "890785ac",
   "metadata": {},
   "outputs": [],
   "source": [
    "AND = {\n",
    "    \"x1\" : [0,0,1,1],\n",
    "    \"x2\" : [0,1,0,1],\n",
    "    \"y\" : [0,1,1,0]\n",
    "}\n",
    "\n",
    "df_AND =pd.DataFrame(AND)\n",
    "\n",
    "df_AND"
   ]
  }
 ],
 "metadata": {
  "kernelspec": {
   "display_name": "Python 3 (ipykernel)",
   "language": "python",
   "name": "python3"
  },
  "language_info": {
   "codemirror_mode": {
    "name": "ipython",
    "version": 3
   },
   "file_extension": ".py",
   "mimetype": "text/x-python",
   "name": "python",
   "nbconvert_exporter": "python",
   "pygments_lexer": "ipython3",
   "version": "3.11.4"
  }
 },
 "nbformat": 4,
 "nbformat_minor": 5
}
